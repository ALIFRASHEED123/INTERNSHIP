{
 "cells": [
  {
   "cell_type": "markdown",
   "id": "c31c3ff7",
   "metadata": {},
   "source": [
    "# MOTIVATION QUOTES GENERATOR"
   ]
  },
  {
   "cell_type": "markdown",
   "id": "e24441d2",
   "metadata": {},
   "source": [
    "The Motivation Quotes Generator is an innovative project designed to inspire and uplift individuals by providing them with a constant source of motivational quotes. In today's fast-paced and often challenging world, it is common for individuals to experience moments of self-doubt, lack of motivation, and the need for a little extra encouragement. This project aims to address these needs by leveraging the power of artificial intelligence to generate personalized motivational quotes tailored to individual preferences and circumstances."
   ]
  },
  {
   "cell_type": "markdown",
   "id": "01c5d45f",
   "metadata": {},
   "source": [
    "The Motivation Quotes Generator harnesses the capabilities of advanced natural language processing algorithms and machine learning techniques to analyze a vast database of quotes from renowned motivational speakers, authors, and thought leaders. The project offers a user-friendly interface, allowing individuals to access motivational quotes at their convenience. Users can specify their preferred themes, such as motivation for work, personal development, relationships, or overcoming challenges, and the generator will present them with relevant quotes. "
   ]
  },
  {
   "cell_type": "markdown",
   "id": "0e8f2c68",
   "metadata": {},
   "source": [
    "PROJECT NAME : MOTIVATION QUOTES GENERATOR\n",
    "\n",
    "CATEGORY     : MACHINE LEARNING (ARTIFICIAL INTELLIGENCE)\n",
    "\n",
    "SUBSET       : NATURAL LANGUAGE PROCESSING (NLP)\n",
    "\n",
    "PLATFORM     : JUPYTER\n",
    "\n",
    "FRONTEND     : PYTHON\n",
    "\n",
    "BACKEND      : PYTHON"
   ]
  },
  {
   "cell_type": "markdown",
   "id": "50d00a9a",
   "metadata": {},
   "source": [
    "# STEPS"
   ]
  },
  {
   "cell_type": "markdown",
   "id": "f2551714",
   "metadata": {},
   "source": [
    "STEP 1: INSTALLING THE NEEDS\n",
    "\n",
    "STEP 2: IMPORTING THE DEPENDENTES\n",
    "\n",
    "STEP 3: PREPROCESSING\n",
    "\n",
    "STEP 4: SPLITING AND BUILDING THE MODEL\n",
    "\n",
    "STEP 5: MODEL PREDICTION\n",
    "\n",
    "STEP 6: PREDICTION"
   ]
  },
  {
   "cell_type": "markdown",
   "id": "bd529c39",
   "metadata": {},
   "source": [
    "# STEP 1  :  INSTALLING THE NEEDS"
   ]
  },
  {
   "cell_type": "code",
   "execution_count": 1,
   "id": "5723eda2",
   "metadata": {},
   "outputs": [
    {
     "name": "stdout",
     "output_type": "stream",
     "text": [
      "Requirement already satisfied: nltk in c:\\users\\alif rasheed\\anaconda3\\lib\\site-packages (3.7)\n",
      "Requirement already satisfied: joblib in c:\\users\\alif rasheed\\anaconda3\\lib\\site-packages (from nltk) (1.1.1)\n",
      "Requirement already satisfied: tqdm in c:\\users\\alif rasheed\\anaconda3\\lib\\site-packages (from nltk) (4.64.1)\n",
      "Requirement already satisfied: regex>=2021.8.3 in c:\\users\\alif rasheed\\anaconda3\\lib\\site-packages (from nltk) (2022.7.9)\n",
      "Requirement already satisfied: click in c:\\users\\alif rasheed\\anaconda3\\lib\\site-packages (from nltk) (8.0.4)\n",
      "Requirement already satisfied: colorama in c:\\users\\alif rasheed\\anaconda3\\lib\\site-packages (from click->nltk) (0.4.6)\n",
      "Note: you may need to restart the kernel to use updated packages.\n"
     ]
    }
   ],
   "source": [
    "pip install nltk"
   ]
  },
  {
   "cell_type": "code",
   "execution_count": 2,
   "id": "801d07f1",
   "metadata": {},
   "outputs": [
    {
     "name": "stdout",
     "output_type": "stream",
     "text": [
      "Requirement already satisfied: keras in c:\\users\\alif rasheed\\anaconda3\\lib\\site-packages (2.12.0)\n",
      "Note: you may need to restart the kernel to use updated packages.\n"
     ]
    }
   ],
   "source": [
    "pip install keras"
   ]
  },
  {
   "cell_type": "code",
   "execution_count": 3,
   "id": "8ac99b8a",
   "metadata": {},
   "outputs": [
    {
     "name": "stdout",
     "output_type": "stream",
     "text": [
      "Requirement already satisfied: tensorflow in c:\\users\\alif rasheed\\anaconda3\\lib\\site-packages (2.12.0)Note: you may need to restart the kernel to use updated packages.\n",
      "\n",
      "Requirement already satisfied: tensorflow-intel==2.12.0 in c:\\users\\alif rasheed\\anaconda3\\lib\\site-packages (from tensorflow) (2.12.0)\n",
      "Requirement already satisfied: setuptools in c:\\users\\alif rasheed\\anaconda3\\lib\\site-packages (from tensorflow-intel==2.12.0->tensorflow) (65.6.3)\n",
      "Requirement already satisfied: gast<=0.4.0,>=0.2.1 in c:\\users\\alif rasheed\\anaconda3\\lib\\site-packages (from tensorflow-intel==2.12.0->tensorflow) (0.4.0)\n",
      "Requirement already satisfied: flatbuffers>=2.0 in c:\\users\\alif rasheed\\anaconda3\\lib\\site-packages (from tensorflow-intel==2.12.0->tensorflow) (23.5.26)\n",
      "Requirement already satisfied: tensorboard<2.13,>=2.12 in c:\\users\\alif rasheed\\anaconda3\\lib\\site-packages (from tensorflow-intel==2.12.0->tensorflow) (2.12.3)\n",
      "Requirement already satisfied: termcolor>=1.1.0 in c:\\users\\alif rasheed\\anaconda3\\lib\\site-packages (from tensorflow-intel==2.12.0->tensorflow) (2.3.0)\n",
      "Requirement already satisfied: jax>=0.3.15 in c:\\users\\alif rasheed\\anaconda3\\lib\\site-packages (from tensorflow-intel==2.12.0->tensorflow) (0.4.13)\n",
      "Requirement already satisfied: grpcio<2.0,>=1.24.3 in c:\\users\\alif rasheed\\anaconda3\\lib\\site-packages (from tensorflow-intel==2.12.0->tensorflow) (1.56.0)\n",
      "Requirement already satisfied: wrapt<1.15,>=1.11.0 in c:\\users\\alif rasheed\\anaconda3\\lib\\site-packages (from tensorflow-intel==2.12.0->tensorflow) (1.14.1)\n",
      "Requirement already satisfied: astunparse>=1.6.0 in c:\\users\\alif rasheed\\anaconda3\\lib\\site-packages (from tensorflow-intel==2.12.0->tensorflow) (1.6.3)\n",
      "Requirement already satisfied: libclang>=13.0.0 in c:\\users\\alif rasheed\\anaconda3\\lib\\site-packages (from tensorflow-intel==2.12.0->tensorflow) (16.0.0)\n",
      "Requirement already satisfied: numpy<1.24,>=1.22 in c:\\users\\alif rasheed\\anaconda3\\lib\\site-packages (from tensorflow-intel==2.12.0->tensorflow) (1.23.5)\n",
      "Requirement already satisfied: absl-py>=1.0.0 in c:\\users\\alif rasheed\\anaconda3\\lib\\site-packages (from tensorflow-intel==2.12.0->tensorflow) (1.4.0)\n",
      "Requirement already satisfied: tensorflow-io-gcs-filesystem>=0.23.1 in c:\\users\\alif rasheed\\anaconda3\\lib\\site-packages (from tensorflow-intel==2.12.0->tensorflow) (0.31.0)\n",
      "Requirement already satisfied: protobuf!=4.21.0,!=4.21.1,!=4.21.2,!=4.21.3,!=4.21.4,!=4.21.5,<5.0.0dev,>=3.20.3 in c:\\users\\alif rasheed\\anaconda3\\lib\\site-packages (from tensorflow-intel==2.12.0->tensorflow) (4.23.3)\n",
      "Requirement already satisfied: typing-extensions>=3.6.6 in c:\\users\\alif rasheed\\anaconda3\\lib\\site-packages (from tensorflow-intel==2.12.0->tensorflow) (4.7.1)\n",
      "Requirement already satisfied: google-pasta>=0.1.1 in c:\\users\\alif rasheed\\anaconda3\\lib\\site-packages (from tensorflow-intel==2.12.0->tensorflow) (0.2.0)\n",
      "Requirement already satisfied: opt-einsum>=2.3.2 in c:\\users\\alif rasheed\\anaconda3\\lib\\site-packages (from tensorflow-intel==2.12.0->tensorflow) (3.3.0)\n",
      "Requirement already satisfied: packaging in c:\\users\\alif rasheed\\anaconda3\\lib\\site-packages (from tensorflow-intel==2.12.0->tensorflow) (22.0)\n",
      "Requirement already satisfied: h5py>=2.9.0 in c:\\users\\alif rasheed\\anaconda3\\lib\\site-packages (from tensorflow-intel==2.12.0->tensorflow) (3.7.0)\n",
      "Requirement already satisfied: tensorflow-estimator<2.13,>=2.12.0 in c:\\users\\alif rasheed\\anaconda3\\lib\\site-packages (from tensorflow-intel==2.12.0->tensorflow) (2.12.0)\n",
      "Requirement already satisfied: keras<2.13,>=2.12.0 in c:\\users\\alif rasheed\\anaconda3\\lib\\site-packages (from tensorflow-intel==2.12.0->tensorflow) (2.12.0)\n",
      "Requirement already satisfied: six>=1.12.0 in c:\\users\\alif rasheed\\anaconda3\\lib\\site-packages (from tensorflow-intel==2.12.0->tensorflow) (1.16.0)\n",
      "Requirement already satisfied: wheel<1.0,>=0.23.0 in c:\\users\\alif rasheed\\anaconda3\\lib\\site-packages (from astunparse>=1.6.0->tensorflow-intel==2.12.0->tensorflow) (0.38.4)\n",
      "Requirement already satisfied: ml-dtypes>=0.1.0 in c:\\users\\alif rasheed\\anaconda3\\lib\\site-packages (from jax>=0.3.15->tensorflow-intel==2.12.0->tensorflow) (0.2.0)\n",
      "Requirement already satisfied: scipy>=1.7 in c:\\users\\alif rasheed\\anaconda3\\lib\\site-packages (from jax>=0.3.15->tensorflow-intel==2.12.0->tensorflow) (1.10.0)\n",
      "Requirement already satisfied: markdown>=2.6.8 in c:\\users\\alif rasheed\\anaconda3\\lib\\site-packages (from tensorboard<2.13,>=2.12->tensorflow-intel==2.12.0->tensorflow) (3.4.1)\n",
      "Requirement already satisfied: werkzeug>=1.0.1 in c:\\users\\alif rasheed\\anaconda3\\lib\\site-packages (from tensorboard<2.13,>=2.12->tensorflow-intel==2.12.0->tensorflow) (2.2.2)\n",
      "Requirement already satisfied: google-auth-oauthlib<1.1,>=0.5 in c:\\users\\alif rasheed\\anaconda3\\lib\\site-packages (from tensorboard<2.13,>=2.12->tensorflow-intel==2.12.0->tensorflow) (1.0.0)\n",
      "Requirement already satisfied: requests<3,>=2.21.0 in c:\\users\\alif rasheed\\anaconda3\\lib\\site-packages (from tensorboard<2.13,>=2.12->tensorflow-intel==2.12.0->tensorflow) (2.28.1)\n",
      "Requirement already satisfied: google-auth<3,>=1.6.3 in c:\\users\\alif rasheed\\anaconda3\\lib\\site-packages (from tensorboard<2.13,>=2.12->tensorflow-intel==2.12.0->tensorflow) (2.21.0)\n",
      "Requirement already satisfied: tensorboard-data-server<0.8.0,>=0.7.0 in c:\\users\\alif rasheed\\anaconda3\\lib\\site-packages (from tensorboard<2.13,>=2.12->tensorflow-intel==2.12.0->tensorflow) (0.7.1)\n",
      "Requirement already satisfied: pyasn1-modules>=0.2.1 in c:\\users\\alif rasheed\\anaconda3\\lib\\site-packages (from google-auth<3,>=1.6.3->tensorboard<2.13,>=2.12->tensorflow-intel==2.12.0->tensorflow) (0.2.8)\n",
      "Requirement already satisfied: rsa<5,>=3.1.4 in c:\\users\\alif rasheed\\anaconda3\\lib\\site-packages (from google-auth<3,>=1.6.3->tensorboard<2.13,>=2.12->tensorflow-intel==2.12.0->tensorflow) (4.9)\n",
      "Requirement already satisfied: cachetools<6.0,>=2.0.0 in c:\\users\\alif rasheed\\anaconda3\\lib\\site-packages (from google-auth<3,>=1.6.3->tensorboard<2.13,>=2.12->tensorflow-intel==2.12.0->tensorflow) (5.3.1)\n",
      "Requirement already satisfied: urllib3<2.0 in c:\\users\\alif rasheed\\anaconda3\\lib\\site-packages (from google-auth<3,>=1.6.3->tensorboard<2.13,>=2.12->tensorflow-intel==2.12.0->tensorflow) (1.26.14)\n",
      "Requirement already satisfied: requests-oauthlib>=0.7.0 in c:\\users\\alif rasheed\\anaconda3\\lib\\site-packages (from google-auth-oauthlib<1.1,>=0.5->tensorboard<2.13,>=2.12->tensorflow-intel==2.12.0->tensorflow) (1.3.1)\n",
      "Requirement already satisfied: charset-normalizer<3,>=2 in c:\\users\\alif rasheed\\anaconda3\\lib\\site-packages (from requests<3,>=2.21.0->tensorboard<2.13,>=2.12->tensorflow-intel==2.12.0->tensorflow) (2.0.4)\n",
      "Requirement already satisfied: certifi>=2017.4.17 in c:\\users\\alif rasheed\\anaconda3\\lib\\site-packages (from requests<3,>=2.21.0->tensorboard<2.13,>=2.12->tensorflow-intel==2.12.0->tensorflow) (2022.12.7)\n",
      "Requirement already satisfied: idna<4,>=2.5 in c:\\users\\alif rasheed\\anaconda3\\lib\\site-packages (from requests<3,>=2.21.0->tensorboard<2.13,>=2.12->tensorflow-intel==2.12.0->tensorflow) (3.4)\n",
      "Requirement already satisfied: MarkupSafe>=2.1.1 in c:\\users\\alif rasheed\\anaconda3\\lib\\site-packages (from werkzeug>=1.0.1->tensorboard<2.13,>=2.12->tensorflow-intel==2.12.0->tensorflow) (2.1.1)\n",
      "Requirement already satisfied: pyasn1<0.5.0,>=0.4.6 in c:\\users\\alif rasheed\\anaconda3\\lib\\site-packages (from pyasn1-modules>=0.2.1->google-auth<3,>=1.6.3->tensorboard<2.13,>=2.12->tensorflow-intel==2.12.0->tensorflow) (0.4.8)\n",
      "Requirement already satisfied: oauthlib>=3.0.0 in c:\\users\\alif rasheed\\anaconda3\\lib\\site-packages (from requests-oauthlib>=0.7.0->google-auth-oauthlib<1.1,>=0.5->tensorboard<2.13,>=2.12->tensorflow-intel==2.12.0->tensorflow) (3.2.2)\n"
     ]
    }
   ],
   "source": [
    "pip install tensorflow"
   ]
  },
  {
   "cell_type": "markdown",
   "id": "eb202de2",
   "metadata": {},
   "source": [
    "# STEP 2  :  IMPORTING THE DEPENDENTES"
   ]
  },
  {
   "cell_type": "code",
   "execution_count": 4,
   "id": "a09bc332",
   "metadata": {},
   "outputs": [],
   "source": [
    "import numpy as np\n",
    "import pandas as pd\n",
    "import tensorflow as tf\n",
    "import random\n",
    "import csv"
   ]
  },
  {
   "cell_type": "code",
   "execution_count": 5,
   "id": "d86a4846",
   "metadata": {},
   "outputs": [],
   "source": [
    "from tensorflow.keras.preprocessing.text import Tokenizer\n",
    "from tensorflow.keras.preprocessing.sequence import pad_sequences\n",
    "from tensorflow.keras.layers import Embedding, LSTM, Dense\n",
    "from tensorflow.keras.models import Sequential\n",
    "from tensorflow.keras.optimizers import Adam\n",
    "from tensorflow.keras.losses import SparseCategoricalCrossentropy"
   ]
  },
  {
   "cell_type": "markdown",
   "id": "f5932288",
   "metadata": {},
   "source": [
    "# STEP 3 : PREPROCESSING"
   ]
  },
  {
   "cell_type": "markdown",
   "id": "bda217f2",
   "metadata": {},
   "source": [
    "Load and preprocess the data as quotes dataset"
   ]
  },
  {
   "cell_type": "code",
   "execution_count": 6,
   "id": "2c6079ab",
   "metadata": {},
   "outputs": [],
   "source": [
    "data=open(\"C:/Users/Alif rasheed/Desktop/motivation_quotes.csv\").read()"
   ]
  },
  {
   "cell_type": "code",
   "execution_count": 7,
   "id": "5c9536c5",
   "metadata": {},
   "outputs": [
    {
     "name": "stderr",
     "output_type": "stream",
     "text": [
      "C:\\Users\\Alif rasheed\\AppData\\Local\\Temp\\ipykernel_9912\\2982697323.py:1: ParserWarning: Falling back to the 'python' engine because the 'c' engine does not support regex separators (separators > 1 char and different from '\\s+' are interpreted as regex); you can avoid this warning by specifying engine='python'.\n",
      "  quotes_data = pd.read_csv('C:/Users/Alif rasheed/Desktop/motivation_quotes.csv', delimiter='\\r\\n', header=None, names=['quote'])\n"
     ]
    }
   ],
   "source": [
    "quotes_data = pd.read_csv('C:/Users/Alif rasheed/Desktop/motivation_quotes.csv', delimiter='\\r\\n', header=None, names=['quote'])"
   ]
  },
  {
   "cell_type": "code",
   "execution_count": 8,
   "id": "8eee8d63",
   "metadata": {},
   "outputs": [
    {
     "data": {
      "text/html": [
       "<div>\n",
       "<style scoped>\n",
       "    .dataframe tbody tr th:only-of-type {\n",
       "        vertical-align: middle;\n",
       "    }\n",
       "\n",
       "    .dataframe tbody tr th {\n",
       "        vertical-align: top;\n",
       "    }\n",
       "\n",
       "    .dataframe thead th {\n",
       "        text-align: right;\n",
       "    }\n",
       "</style>\n",
       "<table border=\"1\" class=\"dataframe\">\n",
       "  <thead>\n",
       "    <tr style=\"text-align: right;\">\n",
       "      <th></th>\n",
       "      <th>quote</th>\n",
       "    </tr>\n",
       "  </thead>\n",
       "  <tbody>\n",
       "    <tr>\n",
       "      <th>0</th>\n",
       "      <td>\"Hardships often prepare ordinary people for a...</td>\n",
       "    </tr>\n",
       "    <tr>\n",
       "      <th>1</th>\n",
       "      <td>\"The only way to do great work is to love what...</td>\n",
       "    </tr>\n",
       "    <tr>\n",
       "      <th>2</th>\n",
       "      <td>\"Tough times never last but tough people do\"</td>\n",
       "    </tr>\n",
       "    <tr>\n",
       "      <th>3</th>\n",
       "      <td>\"Believe you can  and you're halfway there\"</td>\n",
       "    </tr>\n",
       "    <tr>\n",
       "      <th>4</th>\n",
       "      <td>\"In the middle of every difficulty lies opport...</td>\n",
       "    </tr>\n",
       "    <tr>\n",
       "      <th>5</th>\n",
       "      <td>\"The comeback is always stronger than the setb...</td>\n",
       "    </tr>\n",
       "    <tr>\n",
       "      <th>6</th>\n",
       "      <td>\"Difficulties in life are intended to make us ...</td>\n",
       "    </tr>\n",
       "    <tr>\n",
       "      <th>7</th>\n",
       "      <td>\"When the going gets tough  the tough get going\"</td>\n",
       "    </tr>\n",
       "    <tr>\n",
       "      <th>8</th>\n",
       "      <td>\"Strength doesn't come from what you can do It...</td>\n",
       "    </tr>\n",
       "    <tr>\n",
       "      <th>9</th>\n",
       "      <td>\"Hard times don't create heroes It is during t...</td>\n",
       "    </tr>\n",
       "    <tr>\n",
       "      <th>10</th>\n",
       "      <td>\"The pain you feel today is the strength you'l...</td>\n",
       "    </tr>\n",
       "    <tr>\n",
       "      <th>11</th>\n",
       "      <td>\"When you feel like giving up remember why you...</td>\n",
       "    </tr>\n",
       "    <tr>\n",
       "      <th>12</th>\n",
       "      <td>\"In the midst of winter  I found there was wit...</td>\n",
       "    </tr>\n",
       "    <tr>\n",
       "      <th>13</th>\n",
       "      <td>\"Difficulties strengthen the mind  as labor do...</td>\n",
       "    </tr>\n",
       "    <tr>\n",
       "      <th>14</th>\n",
       "      <td>\"When you're going through hell  keep going\"</td>\n",
       "    </tr>\n",
       "    <tr>\n",
       "      <th>15</th>\n",
       "      <td>\"You have within you  right now everything you...</td>\n",
       "    </tr>\n",
       "    <tr>\n",
       "      <th>16</th>\n",
       "      <td>\"The struggle you're in today is developing th...</td>\n",
       "    </tr>\n",
       "    <tr>\n",
       "      <th>17</th>\n",
       "      <td>\"Every storm runs out of rain just like every ...</td>\n",
       "    </tr>\n",
       "    <tr>\n",
       "      <th>18</th>\n",
       "      <td>\"The greatest glory in living lies not in neve...</td>\n",
       "    </tr>\n",
       "    <tr>\n",
       "      <th>19</th>\n",
       "      <td>\"The darkest nights produce the brightest stars\"</td>\n",
       "    </tr>\n",
       "    <tr>\n",
       "      <th>20</th>\n",
       "      <td>\"Believe you can and you're halfway there\"</td>\n",
       "    </tr>\n",
       "    <tr>\n",
       "      <th>21</th>\n",
       "      <td>\"The only way to do great work is to love what...</td>\n",
       "    </tr>\n",
       "    <tr>\n",
       "      <th>22</th>\n",
       "      <td>\"Don't watch the clock do what it does Keep go...</td>\n",
       "    </tr>\n",
       "    <tr>\n",
       "      <th>23</th>\n",
       "      <td>\"Believe in yourself and all that you are  Kno...</td>\n",
       "    </tr>\n",
       "    <tr>\n",
       "      <th>24</th>\n",
       "      <td>\"Success is not final failure is not fatal  It...</td>\n",
       "    </tr>\n",
       "    <tr>\n",
       "      <th>25</th>\n",
       "      <td>\"The future belongs to those who believe in th...</td>\n",
       "    </tr>\n",
       "    <tr>\n",
       "      <th>26</th>\n",
       "      <td>\"The only limit to our realization of tomorrow...</td>\n",
       "    </tr>\n",
       "    <tr>\n",
       "      <th>27</th>\n",
       "      <td>\"The only person you should try to be better t...</td>\n",
       "    </tr>\n",
       "    <tr>\n",
       "      <th>28</th>\n",
       "      <td>\"Believe in yourself  take on your challenges ...</td>\n",
       "    </tr>\n",
       "    <tr>\n",
       "      <th>29</th>\n",
       "      <td>\"Don't be pushed around by the fears in your m...</td>\n",
       "    </tr>\n",
       "  </tbody>\n",
       "</table>\n",
       "</div>"
      ],
      "text/plain": [
       "                                                quote\n",
       "0   \"Hardships often prepare ordinary people for a...\n",
       "1   \"The only way to do great work is to love what...\n",
       "2        \"Tough times never last but tough people do\"\n",
       "3         \"Believe you can  and you're halfway there\"\n",
       "4   \"In the middle of every difficulty lies opport...\n",
       "5   \"The comeback is always stronger than the setb...\n",
       "6   \"Difficulties in life are intended to make us ...\n",
       "7    \"When the going gets tough  the tough get going\"\n",
       "8   \"Strength doesn't come from what you can do It...\n",
       "9   \"Hard times don't create heroes It is during t...\n",
       "10  \"The pain you feel today is the strength you'l...\n",
       "11  \"When you feel like giving up remember why you...\n",
       "12  \"In the midst of winter  I found there was wit...\n",
       "13  \"Difficulties strengthen the mind  as labor do...\n",
       "14       \"When you're going through hell  keep going\"\n",
       "15  \"You have within you  right now everything you...\n",
       "16  \"The struggle you're in today is developing th...\n",
       "17  \"Every storm runs out of rain just like every ...\n",
       "18  \"The greatest glory in living lies not in neve...\n",
       "19   \"The darkest nights produce the brightest stars\"\n",
       "20         \"Believe you can and you're halfway there\"\n",
       "21  \"The only way to do great work is to love what...\n",
       "22  \"Don't watch the clock do what it does Keep go...\n",
       "23  \"Believe in yourself and all that you are  Kno...\n",
       "24  \"Success is not final failure is not fatal  It...\n",
       "25  \"The future belongs to those who believe in th...\n",
       "26  \"The only limit to our realization of tomorrow...\n",
       "27  \"The only person you should try to be better t...\n",
       "28  \"Believe in yourself  take on your challenges ...\n",
       "29  \"Don't be pushed around by the fears in your m..."
      ]
     },
     "execution_count": 8,
     "metadata": {},
     "output_type": "execute_result"
    }
   ],
   "source": [
    "quotes_data"
   ]
  },
  {
   "cell_type": "code",
   "execution_count": 9,
   "id": "fac32429",
   "metadata": {},
   "outputs": [],
   "source": [
    "quotes_texts = quotes_data.iloc[:, 0].tolist()"
   ]
  },
  {
   "cell_type": "code",
   "execution_count": 10,
   "id": "4f1d5b42",
   "metadata": {},
   "outputs": [
    {
     "data": {
      "text/plain": [
       "['\"Hardships often prepare ordinary people for an extraordinary destiny\"',\n",
       " '\"The only way to do great work is to love what you do\"',\n",
       " '\"Tough times never last but tough people do\"',\n",
       " '\"Believe you can  and you\\'re halfway there\"',\n",
       " '\"In the middle of every difficulty lies opportunity\"',\n",
       " '\"The comeback is always stronger than the setback\"',\n",
       " '\"Difficulties in life are intended to make us better  not bitter\"',\n",
       " '\"When the going gets tough  the tough get going\"',\n",
       " '\"Strength doesn\\'t come from what you can do It comes from overcoming the things you once thought you couldn\\'t\"',\n",
       " '\"Hard times don\\'t create heroes It is during the hard times when the \\'hero\\' within us is revealed\"',\n",
       " '\"The pain you feel today is the strength you\\'ll have tomorrow\"',\n",
       " '\"When you feel like giving up remember why you started\"',\n",
       " '\"In the midst of winter  I found there was within me an invincible summer\"',\n",
       " '\"Difficulties strengthen the mind  as labor does the body\"',\n",
       " '\"When you\\'re going through hell  keep going\"',\n",
       " '\"You have within you  right now everything you need to deal with whatever the world throws at you\"',\n",
       " '\"The struggle you\\'re in today is developing the strength you need for tomorrow\"',\n",
       " '\"Every storm runs out of rain just like every dark night turns into day\"',\n",
       " '\"The greatest glory in living lies not in never falling  but in rising every time we fall\"',\n",
       " '\"The darkest nights produce the brightest stars\"',\n",
       " '\"Believe you can and you\\'re halfway there\"',\n",
       " '\"The only way to do great work is to love what you do\"',\n",
       " '\"Don\\'t watch the clock do what it does Keep going\"',\n",
       " '\"Believe in yourself and all that you are  Know that there is something inside you that is greater than any obstacle\"',\n",
       " '\"Success is not final failure is not fatal  It is the courage to continue that counts\"',\n",
       " '\"The future belongs to those who believe in the beauty of their dreams\"',\n",
       " '\"The only limit to our realization of tomorrow will be our doubts of today\"',\n",
       " '\"The only person you should try to be better than is the person you were yesterday\"',\n",
       " '\"Believe in yourself  take on your challenges  dig deep within yourself to conquer fears Never let anyone bring you down You got this\"',\n",
       " '\"Don\\'t be pushed around by the fears in your mind Be led by the dreams in your heart\"']"
      ]
     },
     "execution_count": 10,
     "metadata": {},
     "output_type": "execute_result"
    }
   ],
   "source": [
    "quotes_texts"
   ]
  },
  {
   "cell_type": "markdown",
   "id": "2255deb2",
   "metadata": {},
   "source": [
    "Tokenize and pad sequences"
   ]
  },
  {
   "cell_type": "code",
   "execution_count": 11,
   "id": "df561b64",
   "metadata": {},
   "outputs": [],
   "source": [
    "tokenizer = Tokenizer()\n",
    "tokenizer.fit_on_texts(quotes_texts)\n",
    "total_words = len(tokenizer.word_index) + 1"
   ]
  },
  {
   "cell_type": "code",
   "execution_count": 12,
   "id": "fcffb303",
   "metadata": {},
   "outputs": [],
   "source": [
    "input_sequences = []\n",
    "for text in quotes_texts:\n",
    "    token_list = tokenizer.texts_to_sequences([text])[0]\n",
    "    for i in range(1, len(token_list)):\n",
    "        n_gram_sequence = token_list[:i+1]\n",
    "        input_sequences.append(n_gram_sequence)"
   ]
  },
  {
   "cell_type": "code",
   "execution_count": 13,
   "id": "10dc2828",
   "metadata": {},
   "outputs": [],
   "source": [
    "max_sequence_len = max([len(x) for x in input_sequences])\n",
    "input_sequences = np.array(pad_sequences(input_sequences, maxlen=max_sequence_len, padding='pre'))"
   ]
  },
  {
   "cell_type": "markdown",
   "id": "9392e19c",
   "metadata": {},
   "source": [
    "# STEP 4  :  SPLITING AND BUILDING THE MODEL"
   ]
  },
  {
   "cell_type": "markdown",
   "id": "c7487888",
   "metadata": {},
   "source": [
    "Split input and output sequences"
   ]
  },
  {
   "cell_type": "code",
   "execution_count": 14,
   "id": "d779f165",
   "metadata": {},
   "outputs": [],
   "source": [
    "xs, labels = input_sequences[:, :-1], input_sequences[:, -1]\n",
    "ys = tf.keras.utils.to_categorical(labels, num_classes=total_words)"
   ]
  },
  {
   "cell_type": "markdown",
   "id": "540c2228",
   "metadata": {},
   "source": [
    "Build the model"
   ]
  },
  {
   "cell_type": "code",
   "execution_count": 15,
   "id": "8bef3596",
   "metadata": {},
   "outputs": [],
   "source": [
    "model = Sequential()\n",
    "model.add(Embedding(total_words, 100, input_length=max_sequence_len-1))\n",
    "model.add(LSTM(150))\n",
    "model.add(Dense(16, activation='relu'))\n",
    "model.add(Dense(16, activation='relu'))\n",
    "model.add(Dense(total_words, activation='softmax'))"
   ]
  },
  {
   "cell_type": "code",
   "execution_count": 16,
   "id": "47427d7d",
   "metadata": {},
   "outputs": [],
   "source": [
    "model.compile(loss=SparseCategoricalCrossentropy(), optimizer=Adam(), metrics=['accuracy'])"
   ]
  },
  {
   "cell_type": "code",
   "execution_count": 17,
   "id": "a956ed8b",
   "metadata": {},
   "outputs": [
    {
     "name": "stdout",
     "output_type": "stream",
     "text": [
      "Model: \"sequential\"\n",
      "_________________________________________________________________\n",
      " Layer (type)                Output Shape              Param #   \n",
      "=================================================================\n",
      " embedding (Embedding)       (None, 22, 100)           19500     \n",
      "                                                                 \n",
      " lstm (LSTM)                 (None, 150)               150600    \n",
      "                                                                 \n",
      " dense (Dense)               (None, 16)                2416      \n",
      "                                                                 \n",
      " dense_1 (Dense)             (None, 16)                272       \n",
      "                                                                 \n",
      " dense_2 (Dense)             (None, 195)               3315      \n",
      "                                                                 \n",
      "=================================================================\n",
      "Total params: 176,103\n",
      "Trainable params: 176,103\n",
      "Non-trainable params: 0\n",
      "_________________________________________________________________\n"
     ]
    }
   ],
   "source": [
    "model.summary()"
   ]
  },
  {
   "cell_type": "code",
   "execution_count": 18,
   "id": "24f0a30e",
   "metadata": {},
   "outputs": [
    {
     "name": "stdout",
     "output_type": "stream",
     "text": [
      "Epoch 1/150\n",
      "11/11 [==============================] - 3s 43ms/step - loss: 5.2710 - accuracy: 0.0399\n",
      "Epoch 2/150\n",
      "11/11 [==============================] - 0s 40ms/step - loss: 5.2530 - accuracy: 0.0570\n",
      "Epoch 3/150\n",
      "11/11 [==============================] - 0s 41ms/step - loss: 5.1955 - accuracy: 0.0570\n",
      "Epoch 4/150\n",
      "11/11 [==============================] - 0s 41ms/step - loss: 5.1317 - accuracy: 0.0570\n",
      "Epoch 5/150\n",
      "11/11 [==============================] - 0s 42ms/step - loss: 5.0707 - accuracy: 0.0570\n",
      "Epoch 6/150\n",
      "11/11 [==============================] - 1s 47ms/step - loss: 5.0180 - accuracy: 0.0570\n",
      "Epoch 7/150\n",
      "11/11 [==============================] - 0s 40ms/step - loss: 4.9659 - accuracy: 0.0570\n",
      "Epoch 8/150\n",
      "11/11 [==============================] - 0s 41ms/step - loss: 4.9306 - accuracy: 0.0570\n",
      "Epoch 9/150\n",
      "11/11 [==============================] - 0s 41ms/step - loss: 4.8887 - accuracy: 0.0570\n",
      "Epoch 10/150\n",
      "11/11 [==============================] - 1s 46ms/step - loss: 4.8418 - accuracy: 0.0570\n",
      "Epoch 11/150\n",
      "11/11 [==============================] - 0s 42ms/step - loss: 4.7915 - accuracy: 0.0570\n",
      "Epoch 12/150\n",
      "11/11 [==============================] - 0s 40ms/step - loss: 4.7187 - accuracy: 0.0570\n",
      "Epoch 13/150\n",
      "11/11 [==============================] - 0s 42ms/step - loss: 4.6405 - accuracy: 0.0570\n",
      "Epoch 14/150\n",
      "11/11 [==============================] - 0s 43ms/step - loss: 4.5725 - accuracy: 0.0541\n",
      "Epoch 15/150\n",
      "11/11 [==============================] - 0s 41ms/step - loss: 4.5108 - accuracy: 0.0541\n",
      "Epoch 16/150\n",
      "11/11 [==============================] - 0s 42ms/step - loss: 4.4482 - accuracy: 0.0541\n",
      "Epoch 17/150\n",
      "11/11 [==============================] - 0s 41ms/step - loss: 4.4031 - accuracy: 0.0769\n",
      "Epoch 18/150\n",
      "11/11 [==============================] - 0s 42ms/step - loss: 4.3396 - accuracy: 0.0826\n",
      "Epoch 19/150\n",
      "11/11 [==============================] - 0s 42ms/step - loss: 4.3048 - accuracy: 0.0855\n",
      "Epoch 20/150\n",
      "11/11 [==============================] - 0s 41ms/step - loss: 4.2430 - accuracy: 0.0855\n",
      "Epoch 21/150\n",
      "11/11 [==============================] - 0s 41ms/step - loss: 4.1747 - accuracy: 0.1026\n",
      "Epoch 22/150\n",
      "11/11 [==============================] - 0s 43ms/step - loss: 4.0854 - accuracy: 0.1054\n",
      "Epoch 23/150\n",
      "11/11 [==============================] - 0s 43ms/step - loss: 3.9979 - accuracy: 0.0969\n",
      "Epoch 24/150\n",
      "11/11 [==============================] - 1s 45ms/step - loss: 3.9036 - accuracy: 0.1111\n",
      "Epoch 25/150\n",
      "11/11 [==============================] - 0s 42ms/step - loss: 3.8264 - accuracy: 0.1197\n",
      "Epoch 26/150\n",
      "11/11 [==============================] - 0s 41ms/step - loss: 3.7392 - accuracy: 0.1282\n",
      "Epoch 27/150\n",
      "11/11 [==============================] - 0s 40ms/step - loss: 3.6554 - accuracy: 0.1453\n",
      "Epoch 28/150\n",
      "11/11 [==============================] - 0s 41ms/step - loss: 3.5710 - accuracy: 0.1738\n",
      "Epoch 29/150\n",
      "11/11 [==============================] - 0s 41ms/step - loss: 3.4847 - accuracy: 0.1852\n",
      "Epoch 30/150\n",
      "11/11 [==============================] - 0s 42ms/step - loss: 3.4055 - accuracy: 0.2108\n",
      "Epoch 31/150\n",
      "11/11 [==============================] - 0s 42ms/step - loss: 3.3327 - accuracy: 0.2165\n",
      "Epoch 32/150\n",
      "11/11 [==============================] - 1s 44ms/step - loss: 3.2288 - accuracy: 0.2422\n",
      "Epoch 33/150\n",
      "11/11 [==============================] - 0s 42ms/step - loss: 3.1164 - accuracy: 0.2536\n",
      "Epoch 34/150\n",
      "11/11 [==============================] - 1s 45ms/step - loss: 3.0324 - accuracy: 0.2621\n",
      "Epoch 35/150\n",
      "11/11 [==============================] - 0s 43ms/step - loss: 2.9253 - accuracy: 0.2906\n",
      "Epoch 36/150\n",
      "11/11 [==============================] - 0s 43ms/step - loss: 2.8332 - accuracy: 0.3191\n",
      "Epoch 37/150\n",
      "11/11 [==============================] - 0s 43ms/step - loss: 2.7196 - accuracy: 0.3333\n",
      "Epoch 38/150\n",
      "11/11 [==============================] - 0s 42ms/step - loss: 2.6220 - accuracy: 0.3704\n",
      "Epoch 39/150\n",
      "11/11 [==============================] - 1s 44ms/step - loss: 2.5089 - accuracy: 0.3875\n",
      "Epoch 40/150\n",
      "11/11 [==============================] - 0s 42ms/step - loss: 2.4136 - accuracy: 0.3903\n",
      "Epoch 41/150\n",
      "11/11 [==============================] - 0s 42ms/step - loss: 2.3179 - accuracy: 0.4188\n",
      "Epoch 42/150\n",
      "11/11 [==============================] - 0s 42ms/step - loss: 2.2444 - accuracy: 0.4274\n",
      "Epoch 43/150\n",
      "11/11 [==============================] - 0s 42ms/step - loss: 2.1188 - accuracy: 0.4701\n",
      "Epoch 44/150\n",
      "11/11 [==============================] - 0s 41ms/step - loss: 2.0298 - accuracy: 0.4929\n",
      "Epoch 45/150\n",
      "11/11 [==============================] - 0s 40ms/step - loss: 1.9650 - accuracy: 0.5470\n",
      "Epoch 46/150\n",
      "11/11 [==============================] - 0s 42ms/step - loss: 1.8514 - accuracy: 0.5641\n",
      "Epoch 47/150\n",
      "11/11 [==============================] - 0s 40ms/step - loss: 1.7338 - accuracy: 0.5897\n",
      "Epoch 48/150\n",
      "11/11 [==============================] - 0s 42ms/step - loss: 1.6450 - accuracy: 0.6011\n",
      "Epoch 49/150\n",
      "11/11 [==============================] - 0s 42ms/step - loss: 1.5700 - accuracy: 0.6268\n",
      "Epoch 50/150\n",
      "11/11 [==============================] - 0s 43ms/step - loss: 1.4937 - accuracy: 0.6724\n",
      "Epoch 51/150\n",
      "11/11 [==============================] - 0s 40ms/step - loss: 1.3988 - accuracy: 0.7066\n",
      "Epoch 52/150\n",
      "11/11 [==============================] - 1s 46ms/step - loss: 1.3208 - accuracy: 0.7123\n",
      "Epoch 53/150\n",
      "11/11 [==============================] - 0s 45ms/step - loss: 1.2464 - accuracy: 0.7407\n",
      "Epoch 54/150\n",
      "11/11 [==============================] - 0s 42ms/step - loss: 1.1827 - accuracy: 0.7407\n",
      "Epoch 55/150\n",
      "11/11 [==============================] - 0s 42ms/step - loss: 1.1172 - accuracy: 0.7778\n",
      "Epoch 56/150\n",
      "11/11 [==============================] - 0s 43ms/step - loss: 1.0549 - accuracy: 0.7692\n",
      "Epoch 57/150\n",
      "11/11 [==============================] - 1s 45ms/step - loss: 1.0036 - accuracy: 0.7806\n",
      "Epoch 58/150\n",
      "11/11 [==============================] - 0s 42ms/step - loss: 0.9490 - accuracy: 0.8405\n",
      "Epoch 59/150\n",
      "11/11 [==============================] - 0s 43ms/step - loss: 0.8876 - accuracy: 0.8291\n",
      "Epoch 60/150\n",
      "11/11 [==============================] - 1s 46ms/step - loss: 0.8487 - accuracy: 0.8433\n",
      "Epoch 61/150\n",
      "11/11 [==============================] - 1s 50ms/step - loss: 0.8133 - accuracy: 0.8376\n",
      "Epoch 62/150\n",
      "11/11 [==============================] - 1s 49ms/step - loss: 0.7832 - accuracy: 0.8689\n",
      "Epoch 63/150\n",
      "11/11 [==============================] - 1s 48ms/step - loss: 0.7360 - accuracy: 0.8547\n",
      "Epoch 64/150\n",
      "11/11 [==============================] - 1s 47ms/step - loss: 0.6838 - accuracy: 0.8775\n",
      "Epoch 65/150\n",
      "11/11 [==============================] - 1s 48ms/step - loss: 0.6432 - accuracy: 0.8860\n",
      "Epoch 66/150\n",
      "11/11 [==============================] - 1s 48ms/step - loss: 0.6152 - accuracy: 0.8917\n",
      "Epoch 67/150\n",
      "11/11 [==============================] - 1s 47ms/step - loss: 0.5792 - accuracy: 0.9060\n",
      "Epoch 68/150\n",
      "11/11 [==============================] - 1s 56ms/step - loss: 0.5571 - accuracy: 0.9060\n",
      "Epoch 69/150\n",
      "11/11 [==============================] - 1s 47ms/step - loss: 0.5303 - accuracy: 0.9031\n",
      "Epoch 70/150\n",
      "11/11 [==============================] - 1s 47ms/step - loss: 0.4925 - accuracy: 0.9316\n",
      "Epoch 71/150\n",
      "11/11 [==============================] - 1s 47ms/step - loss: 0.4769 - accuracy: 0.9202\n",
      "Epoch 72/150\n",
      "11/11 [==============================] - 1s 46ms/step - loss: 0.4515 - accuracy: 0.9345\n",
      "Epoch 73/150\n",
      "11/11 [==============================] - 1s 47ms/step - loss: 0.4239 - accuracy: 0.9316\n",
      "Epoch 74/150\n",
      "11/11 [==============================] - 0s 42ms/step - loss: 0.4088 - accuracy: 0.9373\n",
      "Epoch 75/150\n",
      "11/11 [==============================] - 1s 49ms/step - loss: 0.3889 - accuracy: 0.9345\n",
      "Epoch 76/150\n",
      "11/11 [==============================] - 1s 49ms/step - loss: 0.3721 - accuracy: 0.9345\n",
      "Epoch 77/150\n",
      "11/11 [==============================] - 1s 50ms/step - loss: 0.3581 - accuracy: 0.9487\n",
      "Epoch 78/150\n",
      "11/11 [==============================] - 1s 47ms/step - loss: 0.3305 - accuracy: 0.9487\n",
      "Epoch 79/150\n",
      "11/11 [==============================] - 0s 37ms/step - loss: 0.3204 - accuracy: 0.9430\n",
      "Epoch 80/150\n",
      "11/11 [==============================] - 0s 37ms/step - loss: 0.3091 - accuracy: 0.9402\n",
      "Epoch 81/150\n",
      "11/11 [==============================] - 0s 39ms/step - loss: 0.2960 - accuracy: 0.9487\n",
      "Epoch 82/150\n"
     ]
    },
    {
     "name": "stdout",
     "output_type": "stream",
     "text": [
      "11/11 [==============================] - 0s 37ms/step - loss: 0.2921 - accuracy: 0.9430\n",
      "Epoch 83/150\n",
      "11/11 [==============================] - 1s 47ms/step - loss: 0.2782 - accuracy: 0.9487\n",
      "Epoch 84/150\n",
      "11/11 [==============================] - 1s 48ms/step - loss: 0.2704 - accuracy: 0.9544\n",
      "Epoch 85/150\n",
      "11/11 [==============================] - 1s 54ms/step - loss: 0.2740 - accuracy: 0.9487\n",
      "Epoch 86/150\n",
      "11/11 [==============================] - 1s 53ms/step - loss: 0.2564 - accuracy: 0.9516\n",
      "Epoch 87/150\n",
      "11/11 [==============================] - 1s 50ms/step - loss: 0.2586 - accuracy: 0.9487\n",
      "Epoch 88/150\n",
      "11/11 [==============================] - 1s 51ms/step - loss: 0.2618 - accuracy: 0.9516\n",
      "Epoch 89/150\n",
      "11/11 [==============================] - 1s 50ms/step - loss: 0.2476 - accuracy: 0.9459\n",
      "Epoch 90/150\n",
      "11/11 [==============================] - 1s 52ms/step - loss: 0.2342 - accuracy: 0.9459\n",
      "Epoch 91/150\n",
      "11/11 [==============================] - 1s 47ms/step - loss: 0.2324 - accuracy: 0.9487\n",
      "Epoch 92/150\n",
      "11/11 [==============================] - 1s 49ms/step - loss: 0.2205 - accuracy: 0.9316\n",
      "Epoch 93/150\n",
      "11/11 [==============================] - 1s 50ms/step - loss: 0.2108 - accuracy: 0.9487\n",
      "Epoch 94/150\n",
      "11/11 [==============================] - 1s 53ms/step - loss: 0.2053 - accuracy: 0.9430\n",
      "Epoch 95/150\n",
      "11/11 [==============================] - 1s 51ms/step - loss: 0.1996 - accuracy: 0.9487\n",
      "Epoch 96/150\n",
      "11/11 [==============================] - 1s 49ms/step - loss: 0.2011 - accuracy: 0.9487\n",
      "Epoch 97/150\n",
      "11/11 [==============================] - 1s 51ms/step - loss: 0.1926 - accuracy: 0.9459\n",
      "Epoch 98/150\n",
      "11/11 [==============================] - 1s 47ms/step - loss: 0.1979 - accuracy: 0.9430\n",
      "Epoch 99/150\n",
      "11/11 [==============================] - 1s 53ms/step - loss: 0.1918 - accuracy: 0.9487\n",
      "Epoch 100/150\n",
      "11/11 [==============================] - 1s 46ms/step - loss: 0.1819 - accuracy: 0.9516\n",
      "Epoch 101/150\n",
      "11/11 [==============================] - 1s 50ms/step - loss: 0.1865 - accuracy: 0.9430\n",
      "Epoch 102/150\n",
      "11/11 [==============================] - 1s 49ms/step - loss: 0.1791 - accuracy: 0.9516\n",
      "Epoch 103/150\n",
      "11/11 [==============================] - 1s 51ms/step - loss: 0.1835 - accuracy: 0.9459\n",
      "Epoch 104/150\n",
      "11/11 [==============================] - 1s 46ms/step - loss: 0.1769 - accuracy: 0.9459\n",
      "Epoch 105/150\n",
      "11/11 [==============================] - 1s 48ms/step - loss: 0.1756 - accuracy: 0.9402\n",
      "Epoch 106/150\n",
      "11/11 [==============================] - 1s 47ms/step - loss: 0.1663 - accuracy: 0.9430\n",
      "Epoch 107/150\n",
      "11/11 [==============================] - 1s 50ms/step - loss: 0.1632 - accuracy: 0.9430\n",
      "Epoch 108/150\n",
      "11/11 [==============================] - 1s 51ms/step - loss: 0.1703 - accuracy: 0.9430\n",
      "Epoch 109/150\n",
      "11/11 [==============================] - 1s 49ms/step - loss: 0.1581 - accuracy: 0.9487\n",
      "Epoch 110/150\n",
      "11/11 [==============================] - 1s 48ms/step - loss: 0.1611 - accuracy: 0.9487\n",
      "Epoch 111/150\n",
      "11/11 [==============================] - 1s 50ms/step - loss: 0.1583 - accuracy: 0.9487\n",
      "Epoch 112/150\n",
      "11/11 [==============================] - 1s 49ms/step - loss: 0.1545 - accuracy: 0.9430\n",
      "Epoch 113/150\n",
      "11/11 [==============================] - 1s 47ms/step - loss: 0.1540 - accuracy: 0.9487\n",
      "Epoch 114/150\n",
      "11/11 [==============================] - 1s 49ms/step - loss: 0.1540 - accuracy: 0.9430\n",
      "Epoch 115/150\n",
      "11/11 [==============================] - 1s 48ms/step - loss: 0.1579 - accuracy: 0.9544\n",
      "Epoch 116/150\n",
      "11/11 [==============================] - 1s 52ms/step - loss: 0.1474 - accuracy: 0.9487\n",
      "Epoch 117/150\n",
      "11/11 [==============================] - 1s 52ms/step - loss: 0.1544 - accuracy: 0.9487\n",
      "Epoch 118/150\n",
      "11/11 [==============================] - 1s 53ms/step - loss: 0.1521 - accuracy: 0.9373\n",
      "Epoch 119/150\n",
      "11/11 [==============================] - 1s 53ms/step - loss: 0.1546 - accuracy: 0.9430\n",
      "Epoch 120/150\n",
      "11/11 [==============================] - 1s 50ms/step - loss: 0.1500 - accuracy: 0.9402\n",
      "Epoch 121/150\n",
      "11/11 [==============================] - 1s 48ms/step - loss: 0.1491 - accuracy: 0.9544\n",
      "Epoch 122/150\n",
      "11/11 [==============================] - 1s 51ms/step - loss: 0.1506 - accuracy: 0.9373\n",
      "Epoch 123/150\n",
      "11/11 [==============================] - 1s 60ms/step - loss: 0.1462 - accuracy: 0.9430\n",
      "Epoch 124/150\n",
      "11/11 [==============================] - 1s 56ms/step - loss: 0.1443 - accuracy: 0.9459\n",
      "Epoch 125/150\n",
      "11/11 [==============================] - 1s 55ms/step - loss: 0.1426 - accuracy: 0.9516\n",
      "Epoch 126/150\n",
      "11/11 [==============================] - 1s 52ms/step - loss: 0.1457 - accuracy: 0.9487\n",
      "Epoch 127/150\n",
      "11/11 [==============================] - 1s 49ms/step - loss: 0.1444 - accuracy: 0.9373\n",
      "Epoch 128/150\n",
      "11/11 [==============================] - 1s 53ms/step - loss: 0.1368 - accuracy: 0.9516\n",
      "Epoch 129/150\n",
      "11/11 [==============================] - 1s 53ms/step - loss: 0.1396 - accuracy: 0.9487\n",
      "Epoch 130/150\n",
      "11/11 [==============================] - 1s 51ms/step - loss: 0.1373 - accuracy: 0.9402\n",
      "Epoch 131/150\n",
      "11/11 [==============================] - 1s 52ms/step - loss: 0.1396 - accuracy: 0.9402\n",
      "Epoch 132/150\n",
      "11/11 [==============================] - 1s 51ms/step - loss: 0.1390 - accuracy: 0.9459\n",
      "Epoch 133/150\n",
      "11/11 [==============================] - 1s 56ms/step - loss: 0.1308 - accuracy: 0.9487\n",
      "Epoch 134/150\n",
      "11/11 [==============================] - 1s 53ms/step - loss: 0.1336 - accuracy: 0.9487\n",
      "Epoch 135/150\n",
      "11/11 [==============================] - 1s 55ms/step - loss: 0.1348 - accuracy: 0.9459\n",
      "Epoch 136/150\n",
      "11/11 [==============================] - 1s 50ms/step - loss: 0.1331 - accuracy: 0.9373\n",
      "Epoch 137/150\n",
      "11/11 [==============================] - 1s 50ms/step - loss: 0.1309 - accuracy: 0.9430\n",
      "Epoch 138/150\n",
      "11/11 [==============================] - 1s 70ms/step - loss: 0.1266 - accuracy: 0.9430\n",
      "Epoch 139/150\n",
      "11/11 [==============================] - 1s 58ms/step - loss: 0.1283 - accuracy: 0.9430\n",
      "Epoch 140/150\n",
      "11/11 [==============================] - 1s 50ms/step - loss: 0.1318 - accuracy: 0.9487\n",
      "Epoch 141/150\n",
      "11/11 [==============================] - 1s 45ms/step - loss: 0.1361 - accuracy: 0.9459\n",
      "Epoch 142/150\n",
      "11/11 [==============================] - 1s 48ms/step - loss: 0.1333 - accuracy: 0.9544\n",
      "Epoch 143/150\n",
      "11/11 [==============================] - 1s 46ms/step - loss: 0.1347 - accuracy: 0.9487\n",
      "Epoch 144/150\n",
      "11/11 [==============================] - 1s 49ms/step - loss: 0.1310 - accuracy: 0.9402\n",
      "Epoch 145/150\n",
      "11/11 [==============================] - 1s 45ms/step - loss: 0.1292 - accuracy: 0.9516\n",
      "Epoch 146/150\n",
      "11/11 [==============================] - 1s 47ms/step - loss: 0.1328 - accuracy: 0.9430\n",
      "Epoch 147/150\n",
      "11/11 [==============================] - 1s 47ms/step - loss: 0.1253 - accuracy: 0.9430\n",
      "Epoch 148/150\n",
      "11/11 [==============================] - 1s 50ms/step - loss: 0.1306 - accuracy: 0.9487\n",
      "Epoch 149/150\n",
      "11/11 [==============================] - 1s 47ms/step - loss: 0.1239 - accuracy: 0.9544\n",
      "Epoch 150/150\n",
      "11/11 [==============================] - 0s 43ms/step - loss: 0.1369 - accuracy: 0.9430\n"
     ]
    }
   ],
   "source": [
    "history = model.fit(xs, labels, epochs=150, verbose=1)"
   ]
  },
  {
   "cell_type": "markdown",
   "id": "19bfe1f6",
   "metadata": {},
   "source": [
    "# STEP 5  :  MODEL PREDICTION"
   ]
  },
  {
   "cell_type": "markdown",
   "id": "dc13a6e2",
   "metadata": {},
   "source": [
    "Extract quotes from the CSV file"
   ]
  },
  {
   "cell_type": "code",
   "execution_count": 19,
   "id": "5715830f",
   "metadata": {},
   "outputs": [],
   "source": [
    "def generate_motivational_quote():\n",
    "    with open('C:/Users/Alif rasheed/Desktop/motivation_quotes.csv', 'r') as file:\n",
    "        reader = csv.reader(file)\n",
    "        motivational_quotes = list(reader)\n",
    "\n",
    "    quotes = [quote[0] for quote in motivational_quotes]\n",
    "\n",
    "    return random.choice(quotes_texts)"
   ]
  },
  {
   "cell_type": "markdown",
   "id": "49b8288d",
   "metadata": {},
   "source": [
    "# STEP 6  :  PREDICTION"
   ]
  },
  {
   "cell_type": "code",
   "execution_count": 20,
   "id": "dc724e5a",
   "metadata": {},
   "outputs": [
    {
     "name": "stdout",
     "output_type": "stream",
     "text": [
      "\"The greatest glory in living lies not in never falling  but in rising every time we fall\"\n"
     ]
    }
   ],
   "source": [
    "print(generate_motivational_quote())"
   ]
  }
 ],
 "metadata": {
  "kernelspec": {
   "display_name": "Python 3 (ipykernel)",
   "language": "python",
   "name": "python3"
  },
  "language_info": {
   "codemirror_mode": {
    "name": "ipython",
    "version": 3
   },
   "file_extension": ".py",
   "mimetype": "text/x-python",
   "name": "python",
   "nbconvert_exporter": "python",
   "pygments_lexer": "ipython3",
   "version": "3.10.9"
  }
 },
 "nbformat": 4,
 "nbformat_minor": 5
}
